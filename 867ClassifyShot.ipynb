{
  "nbformat": 4,
  "nbformat_minor": 0,
  "metadata": {
    "colab": {
      "name": "867ClassifyShot.ipynb",
      "provenance": [],
      "collapsed_sections": []
    },
    "kernelspec": {
      "name": "python3",
      "display_name": "Python 3"
    },
    "accelerator": "GPU"
  },
  "cells": [
    {
      "cell_type": "code",
      "metadata": {
        "id": "9VLF-mjay12k",
        "colab_type": "code",
        "outputId": "0a01cda7-8a37-4e96-b514-f5c625ca1451",
        "colab": {
          "base_uri": "https://localhost:8080/",
          "height": 34
        }
      },
      "source": [
        "from google.colab import drive\n",
        "drive.mount('/content/gdrive')"
      ],
      "execution_count": 0,
      "outputs": [
        {
          "output_type": "stream",
          "text": [
            "Drive already mounted at /content/gdrive; to attempt to forcibly remount, call drive.mount(\"/content/gdrive\", force_remount=True).\n"
          ],
          "name": "stdout"
        }
      ]
    },
    {
      "cell_type": "code",
      "metadata": {
        "id": "OAwojmFZze9s",
        "colab_type": "code",
        "outputId": "9045e0c2-6999-4670-912a-5c472918885e",
        "colab": {
          "base_uri": "https://localhost:8080/",
          "height": 34
        }
      },
      "source": [
        "# needs 1.12 for mixup to work\n",
        "# !pip install tensorflow==\"1.15\"\n",
        "\n",
        "import tensorflow as tf\n",
        "print(tf.__version__)\n",
        "from PIL import Image\n",
        "import glob\n",
        "import numpy as np\n",
        "import random\n",
        "from keras.utils import Sequence\n",
        "from tensorflow.keras.preprocessing import image\n",
        "from tensorflow import keras\n",
        "from tensorflow.keras import backend as K\n",
        "import pandas as pd\n",
        "import tensorflow as tf\n",
        "from tensorflow.keras import datasets, layers, models\n",
        "from keras_preprocessing.image import ImageDataGenerator\n",
        "from tensorflow.python.keras.models import load_model"
      ],
      "execution_count": 0,
      "outputs": [
        {
          "output_type": "stream",
          "text": [
            "1.15.0\n"
          ],
          "name": "stdout"
        }
      ]
    },
    {
      "cell_type": "markdown",
      "metadata": {
        "id": "6Pq4qhav0LtN",
        "colab_type": "text"
      },
      "source": [
        "\n",
        "# Iterate through the photos and resize the images as 256 x 256 images\n",
        "\n"
      ]
    },
    {
      "cell_type": "code",
      "metadata": {
        "id": "RGvJQ_Cc0LA1",
        "colab_type": "code",
        "colab": {}
      },
      "source": [
        "def reshape_photos(photos, size, path, newFolder, imgBaseName):\n",
        "  i = 1\n",
        "  for photo in photos:\n",
        "    im = Image.open(photo)\n",
        "    im = im.resize((size, size))\n",
        "\n",
        "    im2 = im\n",
        "    im.save(path + newFolder + imgBaseName + str(i) + '.png', 'PNG')\n",
        "    i += 1\n",
        "\n",
        "    im2 = im2.transpose(Image.FLIP_LEFT_RIGHT)\n",
        "    im2.save(path + newFolder + imgBaseName + str(i) + '.png', 'PNG')\n",
        "    i += 1\n",
        "\n",
        "    im3 = im2.rotate(random.randint(-15, 15))\n",
        "    im3.save(path + newFolder + imgBaseName + str(i) + '.png', 'PNG')\n",
        "    \n",
        "    i += 1\n"
      ],
      "execution_count": 0,
      "outputs": []
    },
    {
      "cell_type": "code",
      "metadata": {
        "id": "wLjs_s7K1FRy",
        "colab_type": "code",
        "outputId": "89a9a8f5-fa3a-45ec-e946-e60d57192410",
        "colab": {
          "base_uri": "https://localhost:8080/",
          "height": 34
        }
      },
      "source": [
        "def make_photos():\n",
        "  path = '/content/gdrive/My Drive/867Project/ProjectData/'\n",
        "  shots = 'ShotsNew/*.png'\n",
        "  no_shots = 'NoShotsNew/*.png'\n",
        "\n",
        "  shot_imgs = glob.glob(path + shots)\n",
        "  no_shot_img = glob.glob(path + no_shots)\n",
        "  print(len(shot_imgs), len(no_shot_img))\n",
        "\n",
        "  reshape_photos(shot_imgs, 32, path, 'shotEdit32/', 'img_')\n",
        "  reshape_photos(no_shot_img, 32, path, 'noShotEdit32/', 'img_')\n",
        "\n",
        "make_photos()"
      ],
      "execution_count": 0,
      "outputs": [
        {
          "output_type": "stream",
          "text": [
            "149 126\n"
          ],
          "name": "stdout"
        }
      ]
    },
    {
      "cell_type": "markdown",
      "metadata": {
        "id": "cYLgatlf4W7H",
        "colab_type": "text"
      },
      "source": [
        "# Create training and testing arrays"
      ]
    },
    {
      "cell_type": "code",
      "metadata": {
        "id": "_PPkpMOa2Ozj",
        "colab_type": "code",
        "outputId": "7e50f2a0-db63-4fe0-a074-1360a24e9999",
        "colab": {
          "base_uri": "https://localhost:8080/",
          "height": 69
        }
      },
      "source": [
        "def load_images(path, folder1, folder2):\n",
        "  img_shot = glob.glob(path + folder1 + \"*.png\")\n",
        "  img_no_shot = glob.glob(path + folder2 + \"*.png\")\n",
        "  print(\"Shot images to no shot images: {}, {}\".format(len(img_shot), len(img_no_shot)))\n",
        "  \n",
        "  # load all of the images with the labeling\n",
        "  combined = []\n",
        "  for img in img_shot:\n",
        "    im = Image.open(img)\n",
        "    im = np.array(im)\n",
        "    im = im[:,:,:3]/255.\n",
        "    combined.append(np.array([im, 1]))\n",
        "\n",
        "  for img2 in img_no_shot:\n",
        "    im2 = Image.open(img2)\n",
        "    im2 = np.array(im2)\n",
        "    im2 = im2[:,:,:3]/255.\n",
        "    combined.append(np.array([im2, 0]))\n",
        "    \n",
        "  combined = np.array(combined)\n",
        "  np.random.shuffle(combined)\n",
        "  print(combined.shape)\n",
        "  x1 = combined[:,0]\n",
        "  x = np.array([x_1 for x_1 in x1])\n",
        "  y = combined[:,1:]\n",
        "  print(x.shape)\n",
        "\n",
        "  # split into train, valid, test (6, 2, 2)\n",
        "  split1 = int(3*len(combined)/5.)\n",
        "  split2 = int(4*len(combined)/5.)\n",
        "  return (x[:split1], x[split1:split2], x[split2:], y[:split1], y[split1:split2], y[split2:])\n",
        "  \n",
        "  \n",
        "path = '/content/gdrive/My Drive/867Project/ProjectData/'\n",
        "# x_train, x_valid, x_test, y_train, y_valid, y_test = load_images(path, \"shotEdit256/\", \"noShotEdit256/\")\n",
        "x_train, x_valid, x_test, y_train, y_valid, y_test = load_images(path, \"shotEdit32/\", \"noShotEdit32/\")  "
      ],
      "execution_count": 0,
      "outputs": [
        {
          "output_type": "stream",
          "text": [
            "Shot images to no shot images: 447, 378\n",
            "(825, 2)\n",
            "(825, 32, 32, 3)\n"
          ],
          "name": "stdout"
        }
      ]
    },
    {
      "cell_type": "code",
      "metadata": {
        "id": "mj_h_i1NTHnG",
        "colab_type": "code",
        "outputId": "3bd85a3c-e5ab-44ae-b478-9a267db811f4",
        "colab": {
          "base_uri": "https://localhost:8080/",
          "height": 260
        }
      },
      "source": [
        "print(\"x and y shapes \\n{} \\n{} \\n{} \\n{} \\n{}\\n{}\".format(x_train.shape, y_train.shape, x_valid.shape, y_valid.shape, x_test.shape, y_test.shape))\n",
        "y_list = [y_train, y_valid, y_test]\n",
        "print(\"values and counts\")\n",
        "for y in y_list:\n",
        "  unique, counts = np.unique(y, return_counts=True)\n",
        "  print(np.asarray((unique, counts)).T)"
      ],
      "execution_count": 0,
      "outputs": [
        {
          "output_type": "stream",
          "text": [
            "x and y shapes \n",
            "(495, 32, 32, 3) \n",
            "(495, 1) \n",
            "(165, 32, 32, 3) \n",
            "(165, 1) \n",
            "(165, 32, 32, 3)\n",
            "(165, 1)\n",
            "values and counts\n",
            "[[0 235]\n",
            " [1 260]]\n",
            "[[0 70]\n",
            " [1 95]]\n",
            "[[0 73]\n",
            " [1 92]]\n"
          ],
          "name": "stdout"
        }
      ]
    },
    {
      "cell_type": "markdown",
      "metadata": {
        "id": "J8r6M9wH97DQ",
        "colab_type": "text"
      },
      "source": [
        "#**Create the model to train**"
      ]
    },
    {
      "cell_type": "code",
      "metadata": {
        "id": "PIdK3dmxva8f",
        "colab_type": "code",
        "colab": {}
      },
      "source": [
        "def make_model(shape):\n",
        "  model = models.Sequential()\n",
        "  model.add(layers.Conv2D(32, (2, 2), activation='relu', input_shape=(shape, shape, 3)))\n",
        "  model.add(layers.MaxPooling2D((2, 2)))\n",
        "  model.add(layers.Dropout(0.25))\n",
        "  model.add(layers.Conv2D(64, (3, 3), activation='relu'))\n",
        "  model.add(layers.MaxPooling2D((2, 2)))\n",
        "  model.add(layers.Dropout(0.2))\n",
        "  model.add(layers.Conv2D(64, (2, 2), activation='relu'))\n",
        "  model.add(layers.Flatten())\n",
        "  model.add(layers.Dense(64, activation='relu'))\n",
        "  model.add(layers.Dropout(0.4))\n",
        "  model.add(layers.Dense(32, activation='relu'))\n",
        "  model.add(layers.Dense(1, activation='sigmoid'))\n",
        "  model.summary()\n",
        "  return model\n"
      ],
      "execution_count": 0,
      "outputs": []
    },
    {
      "cell_type": "code",
      "metadata": {
        "id": "bV1VmEWC8K2f",
        "colab_type": "code",
        "outputId": "2299fcea-dab4-4a87-a51c-2cc16c4f2a06",
        "colab": {
          "base_uri": "https://localhost:8080/",
          "height": 166
        }
      },
      "source": [
        "model = make_model(32)"
      ],
      "execution_count": 0,
      "outputs": [
        {
          "output_type": "error",
          "ename": "NameError",
          "evalue": "ignored",
          "traceback": [
            "\u001b[0;31m---------------------------------------------------------------------------\u001b[0m",
            "\u001b[0;31mNameError\u001b[0m                                 Traceback (most recent call last)",
            "\u001b[0;32m<ipython-input-17-346f8bc63d67>\u001b[0m in \u001b[0;36m<module>\u001b[0;34m()\u001b[0m\n\u001b[0;32m----> 1\u001b[0;31m \u001b[0mmodel\u001b[0m \u001b[0;34m=\u001b[0m \u001b[0mmake_model\u001b[0m\u001b[0;34m(\u001b[0m\u001b[0;36m32\u001b[0m\u001b[0;34m)\u001b[0m\u001b[0;34m\u001b[0m\u001b[0;34m\u001b[0m\u001b[0m\n\u001b[0m",
            "\u001b[0;31mNameError\u001b[0m: name 'make_model' is not defined"
          ]
        }
      ]
    },
    {
      "cell_type": "code",
      "metadata": {
        "id": "s_itO3OtRRZt",
        "colab_type": "code",
        "outputId": "ca88609a-a148-4147-b723-6dc8dc1d2178",
        "colab": {
          "base_uri": "https://localhost:8080/",
          "height": 728
        }
      },
      "source": [
        "model.compile(optimizer='adam',\n",
        "              loss='binary_crossentropy',\n",
        "              metrics=[tf.keras.metrics.AUC()])\n",
        "\n",
        "history = model.fit(x_train, y_train, epochs=20, \n",
        "                    validation_data=(x_valid, y_valid))\n"
      ],
      "execution_count": 0,
      "outputs": [
        {
          "output_type": "stream",
          "text": [
            "Train on 495 samples, validate on 165 samples\n",
            "Epoch 1/20\n",
            "495/495 [==============================] - 0s 858us/sample - loss: 0.6956 - auc_2: 0.4777 - val_loss: 0.6857 - val_auc_2: 0.6016\n",
            "Epoch 2/20\n",
            "495/495 [==============================] - 0s 190us/sample - loss: 0.6929 - auc_2: 0.4972 - val_loss: 0.6870 - val_auc_2: 0.7476\n",
            "Epoch 3/20\n",
            "495/495 [==============================] - 0s 190us/sample - loss: 0.6836 - auc_2: 0.5769 - val_loss: 0.6807 - val_auc_2: 0.7793\n",
            "Epoch 4/20\n",
            "495/495 [==============================] - 0s 182us/sample - loss: 0.6742 - auc_2: 0.5990 - val_loss: 0.6589 - val_auc_2: 0.8056\n",
            "Epoch 5/20\n",
            "495/495 [==============================] - 0s 188us/sample - loss: 0.6293 - auc_2: 0.7251 - val_loss: 0.5982 - val_auc_2: 0.8216\n",
            "Epoch 6/20\n",
            "495/495 [==============================] - 0s 202us/sample - loss: 0.6144 - auc_2: 0.7120 - val_loss: 0.5896 - val_auc_2: 0.8241\n",
            "Epoch 7/20\n",
            "495/495 [==============================] - 0s 196us/sample - loss: 0.5923 - auc_2: 0.7615 - val_loss: 0.5426 - val_auc_2: 0.8413\n",
            "Epoch 8/20\n",
            "495/495 [==============================] - 0s 205us/sample - loss: 0.5289 - auc_2: 0.8091 - val_loss: 0.4911 - val_auc_2: 0.8498\n",
            "Epoch 9/20\n",
            "495/495 [==============================] - 0s 190us/sample - loss: 0.4651 - auc_2: 0.8623 - val_loss: 0.4685 - val_auc_2: 0.8654\n",
            "Epoch 10/20\n",
            "495/495 [==============================] - 0s 183us/sample - loss: 0.4745 - auc_2: 0.8476 - val_loss: 0.5283 - val_auc_2: 0.8711\n",
            "Epoch 11/20\n",
            "495/495 [==============================] - 0s 198us/sample - loss: 0.4580 - auc_2: 0.8665 - val_loss: 0.4240 - val_auc_2: 0.8870\n",
            "Epoch 12/20\n",
            "495/495 [==============================] - 0s 207us/sample - loss: 0.4343 - auc_2: 0.8737 - val_loss: 0.5007 - val_auc_2: 0.8902\n",
            "Epoch 13/20\n",
            "495/495 [==============================] - 0s 218us/sample - loss: 0.4042 - auc_2: 0.8929 - val_loss: 0.4736 - val_auc_2: 0.9094\n",
            "Epoch 14/20\n",
            "495/495 [==============================] - 0s 172us/sample - loss: 0.4155 - auc_2: 0.8904 - val_loss: 0.4420 - val_auc_2: 0.9039\n",
            "Epoch 15/20\n",
            "495/495 [==============================] - 0s 180us/sample - loss: 0.3907 - auc_2: 0.8997 - val_loss: 0.3567 - val_auc_2: 0.9232\n",
            "Epoch 16/20\n",
            "495/495 [==============================] - 0s 188us/sample - loss: 0.3388 - auc_2: 0.9253 - val_loss: 0.3900 - val_auc_2: 0.9283\n",
            "Epoch 17/20\n",
            "495/495 [==============================] - 0s 195us/sample - loss: 0.3489 - auc_2: 0.9208 - val_loss: 0.3601 - val_auc_2: 0.9283\n",
            "Epoch 18/20\n",
            "495/495 [==============================] - 0s 186us/sample - loss: 0.3151 - auc_2: 0.9363 - val_loss: 0.3140 - val_auc_2: 0.9381\n",
            "Epoch 19/20\n",
            "495/495 [==============================] - 0s 193us/sample - loss: 0.3067 - auc_2: 0.9320 - val_loss: 0.3230 - val_auc_2: 0.9400\n",
            "Epoch 20/20\n",
            "495/495 [==============================] - 0s 190us/sample - loss: 0.3406 - auc_2: 0.9244 - val_loss: 0.3598 - val_auc_2: 0.9404\n"
          ],
          "name": "stdout"
        }
      ]
    },
    {
      "cell_type": "code",
      "metadata": {
        "id": "ApXi0B84SIOL",
        "colab_type": "code",
        "outputId": "88bc7c86-dcc3-4628-a945-412fbdcdf3fb",
        "colab": {
          "base_uri": "https://localhost:8080/",
          "height": 86
        }
      },
      "source": [
        "# Score trained model.\n",
        "print(len(x_test))\n",
        "scores = model.evaluate(x_test, y_test, verbose=1)\n",
        "print('Test loss:', scores[0])\n",
        "print('Test auc:', scores[1])"
      ],
      "execution_count": 0,
      "outputs": [
        {
          "output_type": "stream",
          "text": [
            "165\n",
            "165/165 [==============================] - 0s 143us/sample - loss: 0.3524 - auc_2: 0.9447\n",
            "Test loss: 0.35242477312232506\n",
            "Test auc: 0.94473845\n"
          ],
          "name": "stdout"
        }
      ]
    },
    {
      "cell_type": "code",
      "metadata": {
        "id": "F-7--W60kTEt",
        "colab_type": "code",
        "colab": {}
      },
      "source": [
        "model.save('/content/gdrive/My Drive/867Project/model.h5')"
      ],
      "execution_count": 0,
      "outputs": []
    },
    {
      "cell_type": "code",
      "metadata": {
        "id": "6d71bf8F2v7b",
        "colab_type": "code",
        "outputId": "5110f14d-5766-4bda-9333-2be762dd363d",
        "colab": {
          "base_uri": "https://localhost:8080/",
          "height": 1000
        }
      },
      "source": [
        "# model = load_model('/content/gdrive/My Drive/867Project/model.h5')\n",
        "p = model.predict(x_test)\n",
        "q = model.predict_classes(x_test)\n",
        "for pred, cla in zip(p,q):\n",
        "  print(pred, cla)"
      ],
      "execution_count": 0,
      "outputs": [
        {
          "output_type": "stream",
          "text": [
            "[0.6190082] [1]\n",
            "[0.2727449] [0]\n",
            "[0.971717] [1]\n",
            "[0.24543002] [0]\n",
            "[0.8319015] [1]\n",
            "[0.16103914] [0]\n",
            "[0.3254785] [0]\n",
            "[0.3031258] [0]\n",
            "[0.34872794] [0]\n",
            "[0.40412486] [0]\n",
            "[0.13445485] [0]\n",
            "[0.29587245] [0]\n",
            "[0.9665353] [1]\n",
            "[0.2243335] [0]\n",
            "[0.92411935] [1]\n",
            "[0.17310247] [0]\n",
            "[0.94167435] [1]\n",
            "[0.9959223] [1]\n",
            "[0.14107442] [0]\n",
            "[0.45506656] [0]\n",
            "[0.2210576] [0]\n",
            "[0.99742687] [1]\n",
            "[0.91736364] [1]\n",
            "[0.6722871] [1]\n",
            "[0.98444915] [1]\n",
            "[0.11531615] [0]\n",
            "[0.36253136] [0]\n",
            "[0.70532995] [1]\n",
            "[0.98940325] [1]\n",
            "[0.16767189] [0]\n",
            "[0.12590903] [0]\n",
            "[0.28405923] [0]\n",
            "[0.7248693] [1]\n",
            "[0.5578762] [1]\n",
            "[0.09853062] [0]\n",
            "[0.11364472] [0]\n",
            "[0.9737261] [1]\n",
            "[0.8821371] [1]\n",
            "[0.9765115] [1]\n",
            "[0.32790458] [0]\n",
            "[0.9353106] [1]\n",
            "[0.9442693] [1]\n",
            "[0.1307376] [0]\n",
            "[0.0786365] [0]\n",
            "[0.4192056] [0]\n",
            "[0.17305335] [0]\n",
            "[0.16047356] [0]\n",
            "[0.34621125] [0]\n",
            "[0.2596429] [0]\n",
            "[0.12362784] [0]\n",
            "[0.20045987] [0]\n",
            "[0.98348975] [1]\n",
            "[0.23138309] [0]\n",
            "[0.1326065] [0]\n",
            "[0.200077] [0]\n",
            "[0.08530927] [0]\n",
            "[0.3185501] [0]\n",
            "[0.8980172] [1]\n",
            "[0.99457824] [1]\n",
            "[0.2070801] [0]\n",
            "[0.550538] [1]\n",
            "[0.20985776] [0]\n",
            "[0.9403946] [1]\n",
            "[0.14032346] [0]\n",
            "[0.1743201] [0]\n",
            "[0.33929658] [0]\n",
            "[0.9829341] [1]\n",
            "[0.9908669] [1]\n",
            "[0.12346366] [0]\n",
            "[0.8535278] [1]\n",
            "[0.2970829] [0]\n",
            "[0.9970499] [1]\n",
            "[0.11327109] [0]\n",
            "[0.13746342] [0]\n",
            "[0.44694558] [0]\n",
            "[0.39285964] [0]\n",
            "[0.30769724] [0]\n",
            "[0.99834156] [1]\n",
            "[0.4544066] [0]\n",
            "[0.329325] [0]\n",
            "[0.70627284] [1]\n",
            "[0.13339296] [0]\n",
            "[0.18055081] [0]\n",
            "[0.21676314] [0]\n",
            "[0.34953603] [0]\n",
            "[0.2005406] [0]\n",
            "[0.13696915] [0]\n",
            "[0.54762673] [1]\n",
            "[0.56850004] [1]\n",
            "[0.6721075] [1]\n",
            "[0.18041003] [0]\n",
            "[0.45012733] [0]\n",
            "[0.06112909] [0]\n",
            "[0.9978746] [1]\n",
            "[0.16203892] [0]\n",
            "[0.96084803] [1]\n",
            "[0.6445343] [1]\n",
            "[0.92949927] [1]\n",
            "[0.14523771] [0]\n",
            "[0.37483835] [0]\n",
            "[0.2716068] [0]\n",
            "[0.23853219] [0]\n",
            "[0.3876562] [0]\n",
            "[0.33551] [0]\n",
            "[0.10755983] [0]\n",
            "[0.92467624] [1]\n",
            "[0.21725023] [0]\n",
            "[0.9986577] [1]\n",
            "[0.11171934] [0]\n",
            "[0.15257156] [0]\n",
            "[0.28365391] [0]\n",
            "[0.989714] [1]\n",
            "[0.20557433] [0]\n",
            "[0.6532287] [1]\n",
            "[0.7259729] [1]\n",
            "[0.40170163] [0]\n",
            "[0.19876301] [0]\n",
            "[0.15291229] [0]\n",
            "[0.7930434] [1]\n",
            "[0.18764254] [0]\n",
            "[0.140075] [0]\n",
            "[0.9936034] [1]\n",
            "[0.22613326] [0]\n",
            "[0.13369259] [0]\n",
            "[0.80249244] [1]\n",
            "[0.947404] [1]\n",
            "[0.5427333] [1]\n",
            "[0.46235302] [0]\n",
            "[0.14262947] [0]\n",
            "[0.7377339] [1]\n",
            "[0.9953121] [1]\n",
            "[0.9976613] [1]\n",
            "[0.12030789] [0]\n",
            "[0.5539662] [1]\n",
            "[0.8795259] [1]\n",
            "[0.9822211] [1]\n",
            "[0.6335796] [1]\n",
            "[0.11214262] [0]\n",
            "[0.6144348] [1]\n",
            "[0.18604138] [0]\n",
            "[0.20943332] [0]\n",
            "[0.18246096] [0]\n",
            "[0.21794012] [0]\n",
            "[0.34323698] [0]\n",
            "[0.9934503] [1]\n",
            "[0.29480278] [0]\n",
            "[0.6851493] [1]\n",
            "[0.9960621] [1]\n",
            "[0.12090042] [0]\n",
            "[0.2261546] [0]\n",
            "[0.8728593] [1]\n",
            "[0.25410864] [0]\n",
            "[0.47136524] [0]\n",
            "[0.10977846] [0]\n",
            "[0.16697103] [0]\n",
            "[0.94633675] [1]\n",
            "[0.95793617] [1]\n",
            "[0.03686503] [0]\n",
            "[0.46845174] [0]\n",
            "[0.62287724] [1]\n",
            "[0.08988127] [0]\n",
            "[0.2618364] [0]\n",
            "[0.48475122] [0]\n",
            "[0.3773802] [0]\n",
            "[0.19071133] [0]\n"
          ],
          "name": "stdout"
        }
      ]
    },
    {
      "cell_type": "markdown",
      "metadata": {
        "id": "Ej2Dopcc9xJX",
        "colab_type": "text"
      },
      "source": [
        "#**MIX UP Implementation**\n"
      ]
    },
    {
      "cell_type": "code",
      "metadata": {
        "id": "QtMFG4HdQKgx",
        "colab_type": "code",
        "colab": {}
      },
      "source": [
        "def make_dataframe():\n",
        "  folder1 = \"shotEdit32/\"\n",
        "  folder2 = \"noShotEdit32/\"\n",
        "  img_shot = glob.glob(path + folder1 + \"*.png\")\n",
        "  img_no_shot = glob.glob(path + folder2 + \"*.png\")\n",
        "  df = pd.DataFrame(columns=[\"path\", \"class\"])\n",
        "  for i in img_shot:\n",
        "    df = df.append({\"path\": i, \"class\": '1'}, ignore_index=True)\n",
        "  for j in img_no_shot:\n",
        "    df = df.append({\"path\": j, \"class\": '0'}, ignore_index=True)\n",
        "  df = df.sample(frac=1).reset_index(drop=True)\n",
        "  print(set(df['class'].tolist()))\n",
        "  test = int(0.8*len(df))\n",
        "  return df[:test], df[test:] \n",
        "\n",
        "def auc(y_true, y_pred):\n",
        "    auc = tf.metrics.auc(y_true, y_pred)[1]\n",
        "    K.get_session().run(tf.local_variables_initializer())\n",
        "    return auc"
      ],
      "execution_count": 0,
      "outputs": []
    },
    {
      "cell_type": "code",
      "metadata": {
        "id": "Q8lCLCTUPNQs",
        "colab_type": "code",
        "colab": {}
      },
      "source": [
        "class MixupImageDataGenerator():\n",
        "    def __init__(self, generator, dataframe, batch_size, img_height, img_width, alpha=0.5, subset=None):\n",
        "        \"\"\"Constructor for mixup image data generator.\n",
        "        Arguments:\n",
        "            generator {object} -- An instance of Keras ImageDataGenerator.\n",
        "            directory {str} -- Image directory.\n",
        "            batch_size {int} -- Batch size.\n",
        "            img_height {int} -- Image height in pixels.\n",
        "            img_width {int} -- Image width in pixels.\n",
        "        Keyword Arguments:\n",
        "            alpha {float} -- Mixup beta distribution alpha parameter. (default: {0.2})\n",
        "            subset {str} -- 'training' or 'validation' if validation_split is specified in\n",
        "            `generator` (ImageDataGenerator).(default: {None})\n",
        "        \"\"\"\n",
        "\n",
        "        self.batch_index = 0\n",
        "        self.batch_size = batch_size\n",
        "        self.alpha = alpha\n",
        "\n",
        "        # First iterator yielding tuples of (x, y)\n",
        "        self.generator1 = generator.flow_from_dataframe(dataframe,\n",
        "                                                        target_size=(\n",
        "                                                            img_height, img_width),\n",
        "                                                        x_col='path',\n",
        "                                                        y_col='class',\n",
        "                                                        batch_size=batch_size,\n",
        "                                                        class_mode=\"binary\",\n",
        "                                                        shuffle=True,\n",
        "                                                        subset=subset)\n",
        "\n",
        "        # Second iterator yielding tuples of (x, y)\n",
        "        self.generator2 = generator.flow_from_dataframe(dataframe,\n",
        "                                                        target_size=(\n",
        "                                                            img_height, img_width),\n",
        "                                                        x_col='path',\n",
        "                                                        y_col='class',\n",
        "                                                        class_mode=\"binary\",\n",
        "                                                        batch_size=batch_size,\n",
        "                                                        shuffle=True,\n",
        "                                                        subset=subset)\n",
        "\n",
        "        # Number of images across all classes in image directory.\n",
        "        self.n = self.generator1.samples\n",
        "\n",
        "    def reset_index(self):\n",
        "        \"\"\"Reset the generator indexes array.\n",
        "        \"\"\"\n",
        "\n",
        "        self.generator1._set_index_array()\n",
        "        self.generator2._set_index_array()\n",
        "\n",
        "    def on_epoch_end(self):\n",
        "        self.reset_index()\n",
        "\n",
        "    def reset(self):\n",
        "        self.batch_index = 0\n",
        "\n",
        "    def __len__(self):\n",
        "        # round up\n",
        "        return (self.n + self.batch_size - 1) // self.batch_size\n",
        "\n",
        "    def get_steps_per_epoch(self):\n",
        "        \"\"\"Get number of steps per epoch based on batch size and\n",
        "        number of images.\n",
        "        Returns:\n",
        "            int -- steps per epoch.\n",
        "        \"\"\"\n",
        "\n",
        "        return self.n // self.batch_size\n",
        "\n",
        "    def __next__(self):\n",
        "        \"\"\"Get next batch input/output pair.\n",
        "        Returns:\n",
        "            tuple -- batch of input/output pair, (inputs, outputs).\n",
        "        \"\"\"\n",
        "\n",
        "        if self.batch_index == 0:\n",
        "            self.reset_index()\n",
        "\n",
        "        current_index = (self.batch_index * self.batch_size) % self.n\n",
        "        if self.n > current_index + self.batch_size:\n",
        "            self.batch_index += 1\n",
        "        else:\n",
        "            self.batch_index = 0\n",
        "\n",
        "        l = np.random.beta(self.alpha, self.alpha, self.batch_size)\n",
        "\n",
        "        X_l = l.reshape(self.batch_size, 1, 1, 1)\n",
        "        y_l = l.reshape(self.batch_size, 1)\n",
        "\n",
        "        # Get a pair of inputs and outputs from two iterators.\n",
        "        X1, y1 = self.generator1.next()\n",
        "        X2, y2 = self.generator2.next()\n",
        "\n",
        "        # Perform the mixup.\n",
        "        X = X1 * X_l + X2 * (1 - X_l)\n",
        "        y = y1 * y_l + y2 * (1 - y_l)\n",
        "        return (X, y)\n",
        "\n",
        "    def __iter__(self):\n",
        "        while True:\n",
        "            yield next(self)"
      ],
      "execution_count": 0,
      "outputs": []
    },
    {
      "cell_type": "code",
      "metadata": {
        "id": "NsXanBeMPS70",
        "colab_type": "code",
        "outputId": "606f845c-c759-4711-c32e-dabfb4e64134",
        "colab": {
          "base_uri": "https://localhost:8080/",
          "height": 1000
        }
      },
      "source": [
        "path = '/content/gdrive/My Drive/867Project/ProjectData/'\n",
        "in_dataframe, test_dataframe = make_dataframe()\n",
        "\n",
        "batch_size = 1\n",
        "validation_split = 0.2\n",
        "img_height = 32\n",
        "img_width = 32\n",
        "epochs = 20\n",
        "\n",
        "# Optional additional image augmentation with ImageDataGenerator.\n",
        "input_imgen = ImageDataGenerator(\n",
        "    rescale=1./255,\n",
        "    rotation_range=5,\n",
        "    width_shift_range=0.05,\n",
        "    height_shift_range=0,\n",
        "    shear_range=0.05,\n",
        "    zoom_range=0,\n",
        "    brightness_range=(1, 1.3),\n",
        "    horizontal_flip=True,\n",
        "    fill_mode='nearest',\n",
        "    validation_split=validation_split)\n",
        "\n",
        "# input_imgen_test = ImageDataGenerator(\n",
        "#     rescale=1./255,\n",
        "#     rotation_range=5,\n",
        "#     width_shift_range=0.05,\n",
        "#     height_shift_range=0,\n",
        "#     shear_range=0.05,\n",
        "#     zoom_range=0,\n",
        "#     brightness_range=(1, 1.3),\n",
        "#     horizontal_flip=True,\n",
        "#     fill_mode='nearest',\n",
        "#     validation_split=0)\n",
        "\n",
        "# # Create training and validation generator.\n",
        "train_generator = MixupImageDataGenerator(generator=input_imgen,\n",
        "                                          dataframe=in_dataframe,\n",
        "                                          batch_size=batch_size,\n",
        "                                          img_height=img_height,\n",
        "                                          img_width=img_height,\n",
        "                                          subset='training')\n",
        "validation_generator = input_imgen.flow_from_dataframe(in_dataframe,\n",
        "                                                       target_size=(\n",
        "                                                           img_height, img_width),\n",
        "                                                        x_col='path',\n",
        "                                                        y_col='class',\n",
        "                                                       class_mode=\"binary\",\n",
        "                                                       batch_size=batch_size,\n",
        "                                                       shuffle=True,\n",
        "                                                       subset='validation')\n",
        "\n",
        "# test_generator = input_imgen.flow_from_dataframe(test_dataframe,\n",
        "#                                                        target_size=(\n",
        "#                                                            img_height, img_width),\n",
        "#                                                         x_col='path',\n",
        "#                                                         y_col='class',\n",
        "#                                                        class_mode=\"binary\",\n",
        "#                                                        batch_size=batch_size,\n",
        "#                                                        shuffle=True)\n",
        "\n",
        "print('training steps: ', train_generator.get_steps_per_epoch())\n",
        "print('validation steps: ', validation_generator.samples // batch_size)\n",
        "\n",
        "# auc = tf.contrib.metrics.streaming_auc(a, b)\n",
        "\n",
        "# Build a Keras image classification model as usual.\n",
        "model = make_model(32)\n",
        "model.compile(optimizer='adam',\n",
        "              loss='binary_crossentropy',\n",
        "              metrics=[auc])\n",
        "\n",
        "# # Start the traning.\n",
        "history = model.fit_generator(\n",
        "    train_generator,\n",
        "    steps_per_epoch=train_generator.get_steps_per_epoch(),\n",
        "    validation_data=validation_generator,\n",
        "    validation_steps=validation_generator.samples // batch_size,\n",
        "    epochs=epochs)"
      ],
      "execution_count": 0,
      "outputs": [
        {
          "output_type": "stream",
          "text": [
            "{'0', '1'}\n",
            "Found 528 validated image filenames belonging to 2 classes.\n",
            "Found 528 validated image filenames belonging to 2 classes.\n",
            "Found 132 validated image filenames belonging to 2 classes.\n",
            "training steps:  528\n",
            "validation steps:  132\n",
            "_________________________________________________________________\n",
            "Layer (type)                 Output Shape              Param #   \n",
            "=================================================================\n",
            "conv2d_6 (Conv2D)            (None, 31, 31, 32)        416       \n",
            "_________________________________________________________________\n",
            "max_pooling2d_4 (MaxPooling2 (None, 15, 15, 32)        0         \n",
            "_________________________________________________________________\n",
            "dropout_6 (Dropout)          (None, 15, 15, 32)        0         \n",
            "_________________________________________________________________\n",
            "conv2d_7 (Conv2D)            (None, 13, 13, 64)        18496     \n",
            "_________________________________________________________________\n",
            "max_pooling2d_5 (MaxPooling2 (None, 6, 6, 64)          0         \n",
            "_________________________________________________________________\n",
            "dropout_7 (Dropout)          (None, 6, 6, 64)          0         \n",
            "_________________________________________________________________\n",
            "conv2d_8 (Conv2D)            (None, 5, 5, 64)          16448     \n",
            "_________________________________________________________________\n",
            "flatten_2 (Flatten)          (None, 1600)              0         \n",
            "_________________________________________________________________\n",
            "dense_6 (Dense)              (None, 64)                102464    \n",
            "_________________________________________________________________\n",
            "dropout_8 (Dropout)          (None, 64)                0         \n",
            "_________________________________________________________________\n",
            "dense_7 (Dense)              (None, 32)                2080      \n",
            "_________________________________________________________________\n",
            "dense_8 (Dense)              (None, 1)                 33        \n",
            "=================================================================\n",
            "Total params: 139,937\n",
            "Trainable params: 139,937\n",
            "Non-trainable params: 0\n",
            "_________________________________________________________________\n",
            "Epoch 1/20\n",
            "528/528 [==============================] - 6s 12ms/step - loss: 0.7016 - auc: 0.4372 - val_loss: 0.6927 - val_auc: 0.4275\n",
            "Epoch 2/20\n",
            "528/528 [==============================] - 6s 11ms/step - loss: 0.6858 - auc: 0.4878 - val_loss: 0.6850 - val_auc: 0.5508\n",
            "Epoch 3/20\n",
            "528/528 [==============================] - 6s 11ms/step - loss: 0.6921 - auc: 0.5679 - val_loss: 0.6970 - val_auc: 0.5541\n",
            "Epoch 4/20\n",
            "528/528 [==============================] - 6s 11ms/step - loss: 0.6979 - auc: 0.5453 - val_loss: 0.6803 - val_auc: 0.5500\n",
            "Epoch 5/20\n",
            "528/528 [==============================] - 6s 11ms/step - loss: 0.6763 - auc: 0.5537 - val_loss: 0.6427 - val_auc: 0.5647\n",
            "Epoch 6/20\n",
            "528/528 [==============================] - 6s 11ms/step - loss: 0.6647 - auc: 0.5727 - val_loss: 0.6685 - val_auc: 0.5756\n",
            "Epoch 7/20\n",
            "528/528 [==============================] - 6s 11ms/step - loss: 0.6618 - auc: 0.5772 - val_loss: 0.5880 - val_auc: 0.5892\n",
            "Epoch 8/20\n",
            "528/528 [==============================] - 6s 11ms/step - loss: 0.6251 - auc: 0.5969 - val_loss: 0.5696 - val_auc: 0.6054\n",
            "Epoch 9/20\n",
            "528/528 [==============================] - 6s 11ms/step - loss: 0.5789 - auc: 0.6110 - val_loss: 0.5019 - val_auc: 0.6225\n",
            "Epoch 10/20\n",
            "528/528 [==============================] - 6s 11ms/step - loss: 0.5442 - auc: 0.6313 - val_loss: 0.4835 - val_auc: 0.6413\n",
            "Epoch 11/20\n",
            "528/528 [==============================] - 6s 11ms/step - loss: 0.5443 - auc: 0.6503 - val_loss: 0.4668 - val_auc: 0.6595\n",
            "Epoch 12/20\n",
            "528/528 [==============================] - 6s 11ms/step - loss: 0.5271 - auc: 0.6676 - val_loss: 0.3919 - val_auc: 0.6764\n",
            "Epoch 13/20\n",
            "528/528 [==============================] - 6s 11ms/step - loss: 0.4980 - auc: 0.6842 - val_loss: 0.3488 - val_auc: 0.6928\n",
            "Epoch 14/20\n",
            "528/528 [==============================] - 6s 11ms/step - loss: 0.5138 - auc: 0.6975 - val_loss: 0.3612 - val_auc: 0.7022\n",
            "Epoch 15/20\n",
            "528/528 [==============================] - 6s 11ms/step - loss: 0.4863 - auc: 0.7085 - val_loss: 0.4165 - val_auc: 0.7132\n",
            "Epoch 16/20\n",
            "528/528 [==============================] - 6s 11ms/step - loss: 0.4723 - auc: 0.7183 - val_loss: 0.3726 - val_auc: 0.7232\n",
            "Epoch 17/20\n",
            "528/528 [==============================] - 6s 11ms/step - loss: 0.4686 - auc: 0.7260 - val_loss: 0.3596 - val_auc: 0.7287\n",
            "Epoch 18/20\n",
            "528/528 [==============================] - 6s 11ms/step - loss: 0.4835 - auc: 0.7316 - val_loss: 0.3669 - val_auc: 0.7346\n",
            "Epoch 19/20\n",
            "528/528 [==============================] - 6s 11ms/step - loss: 0.4368 - auc: 0.7384 - val_loss: 0.2701 - val_auc: 0.7430\n",
            "Epoch 20/20\n",
            "528/528 [==============================] - 6s 11ms/step - loss: 0.4703 - auc: 0.7457 - val_loss: 0.3620 - val_auc: 0.7475\n"
          ],
          "name": "stdout"
        }
      ]
    },
    {
      "cell_type": "code",
      "metadata": {
        "id": "7G-i7XYCpJXv",
        "colab_type": "code",
        "colab": {}
      },
      "source": [
        "sample_x, sample_y = next(train_generator)\n",
        "for i in range(batch_size):\n",
        "    display(image.array_to_img(sample_x[i]))\n",
        "print(sample_y)"
      ],
      "execution_count": 0,
      "outputs": []
    },
    {
      "cell_type": "code",
      "metadata": {
        "id": "LvoaNXHS9pGi",
        "colab_type": "code",
        "colab": {}
      },
      "source": [
        "model.save('/content/gdrive/My Drive/867Project/mixup_model2.h5')"
      ],
      "execution_count": 0,
      "outputs": []
    },
    {
      "cell_type": "markdown",
      "metadata": {
        "id": "O7T88VxD2dtF",
        "colab_type": "text"
      },
      "source": [
        "Make AUC Plots for both models"
      ]
    },
    {
      "cell_type": "code",
      "metadata": {
        "id": "E2kltt_mOYIE",
        "colab_type": "code",
        "colab": {}
      },
      "source": [
        "model_original = load_model('/content/gdrive/My Drive/867Project/model.h5')\n",
        "model_mixup = load_model('/content/gdrive/My Drive/867Project/mixup_model.h5')"
      ],
      "execution_count": 0,
      "outputs": []
    },
    {
      "cell_type": "code",
      "metadata": {
        "id": "bXeXTPbyOf8D",
        "colab_type": "code",
        "colab": {}
      },
      "source": [
        "from sklearn.metrics import roc_curve\n",
        "# y_test = y_test.ravel().tolist\n",
        "test_dataframe = pd.read_csv('/content/gdrive/My Drive/867Project/test.csv')\n",
        "x_test, y_test = [], []\n",
        "for i, row in test_dataframe.iterrows():\n",
        "  im = Image.open(row['path'])\n",
        "  im = np.array(im)\n",
        "  im = im[:,:,:3]/255.\n",
        "  x_test.append(im)\n",
        "  y_test.append(row['class'])\n",
        "x_test = np.array(x_test)\n",
        "y_pred_keras_o = model_original.predict(x_test).ravel().tolist()\n",
        "fpr_keras_o, tpr_keras_o, thresholds_keras_o = roc_curve(y_test, y_pred_keras_o, pos_label=1)\n",
        "\n",
        "y_pred_keras_m = model_mixup.predict(x_test).ravel()\n",
        "fpr_keras_m, tpr_keras_m, thresholds_keras_m = roc_curve(y_test, y_pred_keras_m)\n"
      ],
      "execution_count": 0,
      "outputs": []
    },
    {
      "cell_type": "code",
      "metadata": {
        "id": "-ytms4zE230i",
        "colab_type": "code",
        "colab": {}
      },
      "source": [
        "from sklearn.metrics import auc\n",
        "auc_keras_o = auc(fpr_keras_o, tpr_keras_o)\n",
        "auc_keras_m = auc(fpr_keras_m, tpr_keras_m)\n"
      ],
      "execution_count": 0,
      "outputs": []
    },
    {
      "cell_type": "code",
      "metadata": {
        "id": "ooPnpabG3Nn-",
        "colab_type": "code",
        "outputId": "ffc0d586-2517-47c6-fe05-1e08066c23f2",
        "colab": {
          "base_uri": "https://localhost:8080/",
          "height": 573
        }
      },
      "source": [
        "from matplotlib import pyplot as plt\n",
        "\n",
        "plt.figure(1)\n",
        "plt.plot([0, 1], [0, 1], 'k--')\n",
        "plt.plot(fpr_keras_o, tpr_keras_o, label='Original (area = {:.3f})'.format(auc_keras_o))\n",
        "plt.plot(fpr_keras_m, tpr_keras_m, label='Mixup (area = {:.3f})'.format(auc_keras_m))\n",
        "plt.xlabel('False positive rate')\n",
        "plt.ylabel('True positive rate')\n",
        "plt.title('ROC curve')\n",
        "plt.legend(loc='best')\n",
        "plt.show()\n",
        "# Zoom in view of the upper left corner.\n",
        "plt.figure(2)\n",
        "plt.xlim(0, 0.2)\n",
        "plt.ylim(0.8, 1)\n",
        "plt.plot([0, 1], [0, 1], 'k--')\n",
        "plt.plot(fpr_keras_o, tpr_keras_o, label='Original (area = {:.3f})'.format(auc_keras_o))\n",
        "plt.plot(fpr_keras_m, tpr_keras_m, label='Mixup (area = {:.3f})'.format(auc_keras_m))\n",
        "plt.xlabel('False positive rate')\n",
        "plt.ylabel('True positive rate')\n",
        "plt.title('ROC curve (zoomed in at top left)')\n",
        "plt.legend(loc='best')\n",
        "plt.show()"
      ],
      "execution_count": 0,
      "outputs": [
        {
          "output_type": "display_data",
          "data": {
            "image/png": "[encoded data removed]",
            "text/plain": [
              "<Figure size 432x288 with 1 Axes>"
            ]
          },
          "metadata": {
            "tags": []
          }
        },
        {
          "output_type": "display_data",
          "data": {
            "image/png": "[encoded data removed]",
            "text/plain": [
              "<Figure size 432x288 with 1 Axes>"
            ]
          },
          "metadata": {
            "tags": []
          }
        }
      ]
    },
    {
      "cell_type": "code",
      "metadata": {
        "id": "LIG4iJ1z8fHJ",
        "colab_type": "code",
        "colab": {}
      },
      "source": [
        ""
      ],
      "execution_count": 0,
      "outputs": []
    }
  ]
}